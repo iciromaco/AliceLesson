{
  "nbformat": 4,
  "nbformat_minor": 0,
  "metadata": {
    "kernelspec": {
      "display_name": "Python 3",
      "language": "python",
      "name": "python3"
    },
    "language_info": {
      "codemirror_mode": {
        "name": "ipython",
        "version": 3
      },
      "file_extension": ".py",
      "mimetype": "text/x-python",
      "name": "python",
      "nbconvert_exporter": "python",
      "pygments_lexer": "ipython3",
      "version": "3.7.6"
    },
    "colab": {
      "name": "S6_ベジエ曲線あてはめ.ipynb のコピー",
      "provenance": [],
      "collapsed_sections": [],
      "include_colab_link": true
    }
  },
  "cells": [
    {
      "cell_type": "markdown",
      "metadata": {
        "id": "view-in-github",
        "colab_type": "text"
      },
      "source": [
        "<a href=\"https://colab.research.google.com/github/iciromaco/AliceLesson/blob/master/S6_%E3%83%99%E3%82%B8%E3%82%A8%E6%9B%B2%E7%B7%9A%E3%81%82%E3%81%A6%E3%81%AF%E3%82%81.ipynb\" target=\"_parent\"><img src=\"https://colab.research.google.com/assets/colab-badge.svg\" alt=\"Open In Colab\"/></a>"
      ]
    },
    {
      "cell_type": "code",
      "metadata": {
        "id": "9G9Wq6qK-LBN",
        "colab_type": "code",
        "colab": {
          "base_uri": "https://localhost:8080/",
          "height": 54
        },
        "outputId": "8dae58ad-d6a2-46d3-96a2-56fb17ded132"
      },
      "source": [
        "import sys,os\n",
        "import numpy as np\n",
        "import matplotlib.pyplot as plt\n",
        "import cv2\n",
        "\n",
        "# from sympy import *\n",
        "from sympy import diff,Symbol,Matrix,symbols,solve,simplify,binomial\n",
        "from sympy.abc import a,b,c\n",
        "# init_session()\n",
        "from sympy import var\n",
        "px,py =var('px:4'),var('py:4')\n",
        "\n",
        "# Google Colaboratory の MyDrive パス\n",
        "COLABRDROOT = \"/content/drive/My Drive/RadiShLab\"\n",
        "\n",
        "# ホーム\n",
        "LOCALHOME = \".\"  # フォルダを絶対指定するならここを書き変えてください\n",
        "\n",
        "\n",
        "# 環境判定（Google Colaboratory かどうかの判定）\n",
        "try:\n",
        "    from google.colab import drive\n",
        "    drive.mount('/content/drive')\n",
        "    sys.path.append(COLABRDROOT+'/rdlib')\n",
        "    COLABORATORY = True\n",
        "except ImportError:\n",
        "    sys.path.append('./rdlib')\n",
        "    COLABORATORY = False\n",
        "import rdlib4 as rd\n",
        "\n",
        "# フォルダ指定\n",
        "labhome = COLABRDROOT if COLABORATORY else LOCALHOME\n",
        "\n",
        "NSilF = labhome+'/RDSamples/NSilImages' # 正規化されたシルエット画像のフォルダ\n",
        "imgs = rd.collectimages(NSilF)       # シルエット画像のリスト"
      ],
      "execution_count": 1,
      "outputs": [
        {
          "output_type": "stream",
          "text": [
            "Drive already mounted at /content/drive; to attempt to forcibly remount, call drive.mount(\"/content/drive\", force_remount=True).\n"
          ],
          "name": "stdout"
        }
      ]
    },
    {
      "cell_type": "code",
      "metadata": {
        "scrolled": true,
        "id": "kc_zoFAE-LBS",
        "colab_type": "code",
        "outputId": "56a7fea1-d83d-4517-8d3e-2cb2ccd9aeef",
        "colab": {
          "base_uri": "https://localhost:8080/",
          "height": 356
        }
      },
      "source": [
        "# 画像の左右の輪郭線を抽出　（S5参照）\n",
        "img = imgs[4]\n",
        "conLeft,conRight = rd.getCntPairWithImg(img)\n",
        "canvas = cv2.cvtColor(np.zeros_like(img) ,cv2.COLOR_GRAY2BGR)\n",
        "rd.drawContours(canvas,conLeft,color=(0,255,0),thickness=2)\n",
        "rd.drawContours(canvas,conRight,color=(0,255,255),thickness=2)\n",
        "plt.figure(dpi=100)\n",
        "rd.plotimg(canvas)\n",
        "print(\"輪郭線の画素数は、左 {}  右{}\".format(len(conLeft),len(conRight)))"
      ],
      "execution_count": 2,
      "outputs": [
        {
          "output_type": "stream",
          "text": [
            "輪郭線の画素数は、左 303  右294\n"
          ],
          "name": "stdout"
        },
        {
          "output_type": "display_data",
          "data": {
            "image/png": "[encoded data removed]",
            "text/plain": [
              "<Figure size 600x400 with 1 Axes>"
            ]
          },
          "metadata": {
            "tags": []
          }
        }
      ]
    },
    {
      "cell_type": "markdown",
      "metadata": {
        "id": "-4JVj4ib-LBX",
        "colab_type": "text"
      },
      "source": [
        "輪郭線を構成する画素の数は、この例で左右それぞれ300画素近い。\n",
        "\n",
        "## getSamples()\n",
        "> rd.getSamples(cont,N=20,mode='Equidistant')\n",
        "    # 入力\n",
        "    # 　cont 輪郭線構造体 開いた輪郭線を想定している\n",
        "    # 　N サンプル数\n",
        "    # パラメータ\n",
        "    #　 mode = 'Equidistant'なら始点からの距離について等間隔 (default)\n",
        "    # 　mode = 'Simple' なら単純にインデックスを等間隔\n",
        "\n",
        "ディジタル画像は斜め方向と上下左右とで画素間の距離が異なるので、単純にインデックスを等間隔に刻むと、輪郭が斜めになっている部分と縦横に伸びている部分とでサンプリング間隔が変化してしまう。\n",
        "\n",
        "曲線あてはめにはそれほど影響しないが、気にする場合は Equidistantを用いるとよい。"
      ]
    },
    {
      "cell_type": "code",
      "metadata": {
        "id": "e_4wW1pi-LBZ",
        "colab_type": "code",
        "outputId": "b02b6cd1-8303-4a3f-f4b9-1d7509a86ea9",
        "colab": {
          "base_uri": "https://localhost:8080/",
          "height": 438
        }
      },
      "source": [
        "Left = rd.getSamples(conLeft,N=30,mode='Equidistant')\n",
        "Right = rd.getSamples(conRight,N=30,mode='Simple')\n",
        "\n",
        "plt.figure(figsize=(5,5),dpi=100)\n",
        "g = plt.subplot()\n",
        "g.set_aspect('equal')\n",
        "plt.scatter(Left[:,0],-Left[:,1])\n",
        "plt.scatter(Right[:,0],-Right[:,1]);"
      ],
      "execution_count": 3,
      "outputs": [
        {
          "output_type": "display_data",
          "data": {
            "image/png": "[encoded data removed]",
            "text/plain": [
              "<Figure size 500x500 with 1 Axes>"
            ]
          },
          "metadata": {
            "tags": []
          }
        }
      ]
    },
    {
      "cell_type": "markdown",
      "metadata": {
        "id": "UnVgayd8-LBd",
        "colab_type": "text"
      },
      "source": [
        "左が距離等間隔、右がインデックスの等間隔\n",
        "\n",
        "# ベジエ曲線のあてはめ\n",
        "\n",
        "## class BezierCurve:\n",
        "## BezierCurve()　（コンストラクタ）\n",
        "> rd.BezierCurve(samples, N=5, initialPara=[], openmode=False)\n",
        "    # 入力\n",
        "    #    samples   輪郭の標本\n",
        "    #    N  ベジエ曲線の次数\n",
        "    #    initialPara   サンプルに対するベジエ関数のパラメータの初期値\n",
        "    #      デフォルトは[]であり、その場合は初期値はリニアとなる\n",
        "    # パラメータ\n",
        "    #    openmode=False  # 端点を自由扱い　False のときは曲線の端点をサンプルの端点位置に一致させる\n",
        "    # 出力\n",
        "    #    BezierCurve のインスタンス\n",
        "    \n",
        "> bez = BezierCurve(con,N=5)\n",
        "    \n",
        "> bez.fit()  あてはめの実行\n",
        "\n",
        "> rd.BezierCurve.toggledebugmode()   デバッグ情報のオンオフ\n",
        "\n",
        "> rd.BezierCurve.setParameters(reset=False,driftThres=0.1,errorThres=0.5,paraResolution = 0.001)  パラメータの表示とセット\n",
        "\n",
        "> クラス変数\n",
        "    # driftThres = 0.1 # 繰り返しにおけるパラメータ変動幅の平均値に対するしきい値\n",
        "    # errorThres = 0.5 # 繰り返し打ち切りを決める、あてはめ誤差の平均値に対するしきい値\n",
        "    # paraResolution = 0.001 # サンプル点の最寄り点探索の解像度\n",
        "    \n",
        "\n",
        "# 実行例"
      ]
    },
    {
      "cell_type": "code",
      "metadata": {
        "id": "dK9HFqi6-LBf",
        "colab_type": "code",
        "outputId": "c3ce7dcc-80c3-4e30-8ee3-dd0a3ef89363",
        "colab": {
          "base_uri": "https://localhost:8080/",
          "height": 105
        }
      },
      "source": [
        "rd.BezierCurve.setParameters()"
      ],
      "execution_count": 4,
      "outputs": [
        {
          "output_type": "stream",
          "text": [
            "precPara:        0.1\n",
            "errorThres:      0.5\n",
            "paraResolution:  0.001\n",
            "debugmode:       False\n",
            "\n"
          ],
          "name": "stdout"
        }
      ]
    },
    {
      "cell_type": "code",
      "metadata": {
        "id": "xFzdrOZQ-LBj",
        "colab_type": "code",
        "outputId": "a85e84ea-3dd0-4226-fe48-276d8e84b03f",
        "colab": {
          "base_uri": "https://localhost:8080/",
          "height": 351
        }
      },
      "source": [
        "cntL = rd.getSamples(conLeft,N=20)\n",
        "cntR = rd.getSamples(conRight,N=20)\n",
        "bezL =  rd.BezierCurve(cntL,N=6)\n",
        "bezR =  rd.BezierCurve(cntR,N=6)\n",
        "rd.BezierCurve.toggledebugmode() # デバッグモードの切り替え\n",
        "# BezierCurve.setParameters(driftThres=1.0,errorThres=1.0)\n",
        "res,cpx,cpy,LbezresX,LbezresY,tpara = bezL.fit()\n",
        "res,cpx,cpy,RbezresX,RbezresY,tpara = bezR.fit()\n",
        "# BezierCurve.setParameters()"
      ],
      "execution_count": 5,
      "outputs": [
        {
          "output_type": "stream",
          "text": [
            "\n",
            "\n",
            "debugmode: True\n",
            ".error:2.0026295048839478, drift:0.3414323111748255\n",
            ".error:1.667365479628541, drift:0.2524072649802463\n",
            ".error:1.716949442280253, drift:0.26466611465715895\n",
            ".error:1.5055038357684285, drift:0.18913502689014156\n",
            ".error:1.3451333385006172, drift:0.14496346407315466\n",
            ".error:1.2246082738567021, drift:0.12036450418098077\n",
            ".error:1.1344212118968233, drift:0.0988785561369861\n",
            "\n",
            ".error:1.9696208053667434, drift:0.24785305271759883\n",
            ".error:1.8299576009994758, drift:0.18593860728207887\n",
            ".error:1.6996363334364328, drift:0.17224071245388126\n",
            ".error:1.589648295451442, drift:0.14910390128252526\n",
            ".error:1.5077434683459465, drift:0.13562254337041074\n",
            ".error:1.4334243686934627, drift:0.1187630817780365\n",
            ".error:1.3715906852261956, drift:0.09525981251638403\n",
            "\n"
          ],
          "name": "stdout"
        }
      ]
    },
    {
      "cell_type": "markdown",
      "metadata": {
        "id": "XzJxsXqk-LBn",
        "colab_type": "text"
      },
      "source": [
        "# 結果の描画\n",
        "\n",
        "##  drawBez()\n",
        "> drawBez(rdimg,bezL=None,bezR=None,bezC=None,cpl=None,cpr=None,cpc=None, \n",
        "             cntL=[],cntR=[],cntC=None, ladder=None,PosL=[],PosR=[],PosC=[],n_samples=20,saveImage=False,savepath=\"\")\n",
        "             \n",
        "    # 入力\n",
        "    #    rdimg  シルエット画像\n",
        "    #    bezL,bezR,bezC   ベジエ曲線の定義式　3本まで描ける\n",
        "    #    cpl,cpr,cpc     ベジエ曲線の制御点\n",
        "    #    cntL,cntR,cntC  標本点\n",
        "    # パラメータ\n",
        "    #    ladder  標本点間を結ぶ線分を描画するかどうか\n",
        "    #    PosL,PosR.PosC ラダーの設置点\n",
        "    #    n_samples  ラダーの数\n",
        "    #    saveImage 画像を保存するかどうか\n",
        "    #    savepath ファイル名\n",
        "    "
      ]
    },
    {
      "cell_type": "code",
      "metadata": {
        "id": "66_gFEsv-LBp",
        "colab_type": "code",
        "outputId": "bc09930a-a650-4500-dd71-177e333ead1c",
        "colab": {
          "base_uri": "https://localhost:8080/",
          "height": 518
        }
      },
      "source": [
        "rd.drawBez(img,bezL=(LbezresX,LbezresY),bezR=(RbezresX,RbezresY))"
      ],
      "execution_count": 6,
      "outputs": [
        {
          "output_type": "display_data",
          "data": {
            "image/png": "[encoded data removed]",
            "text/plain": [
              "<Figure size 600x600 with 1 Axes>"
            ]
          },
          "metadata": {
            "tags": []
          }
        }
      ]
    },
    {
      "cell_type": "code",
      "metadata": {
        "id": "wStYlyaQ-LBw",
        "colab_type": "code",
        "colab": {}
      },
      "source": [
        "from sympy import diff,Symbol,Matrix,symbols,solve,simplify,binomial\n",
        "from sympy.abc import a,b,c\n",
        "# init_session()\n",
        "from sympy import var\n",
        "\n",
        "N=6\n",
        "\n",
        "# ベジエ曲線を定義するのに使うシンボルの宣言\n",
        "P = [Symbol('P' + str(i)) for i in range(N+1)] # 制御点を表すシンボル（数値変数ではない）\n",
        "px = [var('px'+str(i)) for i in range(N+1)] # 制御点のx座標を表すシンボル\n",
        "py = [var('py'+str(i)) for i in range(N+1)] # 制御点のy座標を表すシンボル\n",
        "t= symbols('t')\n",
        "v = var('v')\n",
        "for i in range(N+1):     # 制御点のシンボルと成分の対応付け\n",
        "    P[i] = Matrix([px[i],py[i]]) \n",
        "    \n",
        "# N次のベジエ曲線の定義式制御点 P0～PN とパラメータ　　t　の関数として定義\n",
        "v = 1-t\n",
        "bezN = Matrix([0,0])\n",
        "for i in range(0,N+1):\n",
        "    bezN = bezN + binomial(N,i)*v**(N-i)*t**i*P[i]\n",
        "bezN = bezN\n",
        "            "
      ],
      "execution_count": 0,
      "outputs": []
    },
    {
      "cell_type": "code",
      "metadata": {
        "id": "OrOerFW0JStT",
        "colab_type": "code",
        "colab": {}
      },
      "source": [
        "N=6\n",
        "samples = Left\n",
        "x,y = samples[:,0],samples[:,1]\n",
        "M = len(x)\n",
        "axlength = np.array(cv2.arcLength(samples, False)) # 点列に沿って測った総経路長\n",
        "# 各サンプル点の始点からの経路長の全長に対する比を、各点のベジエパラメータの初期化とする\n",
        "t = [cv2.arcLength(samples[:i+1],False)  for i in range(len(samples))]/axlength"
      ],
      "execution_count": 0,
      "outputs": []
    },
    {
      "cell_type": "code",
      "metadata": {
        "id": "enyjlzp_Pbgg",
        "colab_type": "code",
        "colab": {}
      },
      "source": [
        "def bs(N,n,t):\n",
        "    return binomial(N,n)*(1-t)**n*t**(N-n)"
      ],
      "execution_count": 0,
      "outputs": []
    },
    {
      "cell_type": "code",
      "metadata": {
        "id": "ju2E6H79Pca3",
        "colab_type": "code",
        "colab": {}
      },
      "source": [
        "exA = np.array([[sum([bs(N,i,t[k])*bs(N,n,t[k]) for k in range(M)]) for i in range(N+1)] for n in range(N+1)],'float64')"
      ],
      "execution_count": 0,
      "outputs": []
    },
    {
      "cell_type": "code",
      "metadata": {
        "id": "NvHifB3sQVbl",
        "colab_type": "code",
        "colab": {}
      },
      "source": [
        "exBX = np.array([[sum([x[k]*bs(N,n,t[k]) for k in range(M)])] for n in range(N+1)],'float64')\n",
        "exBY = np.array([[sum([y[k]*bs(N,n,t[k]) for k in range(M)])] for n in range(N+1)],'float64')"
      ],
      "execution_count": 0,
      "outputs": []
    },
    {
      "cell_type": "code",
      "metadata": {
        "id": "BcG_ILRqZrWR",
        "colab_type": "code",
        "colab": {
          "base_uri": "https://localhost:8080/",
          "height": 140
        },
        "outputId": "0b28b3b9-8f64-4cad-b1ee-7dcacf3d56d6"
      },
      "source": [
        "np.linalg.solve(exA, exBX)"
      ],
      "execution_count": 12,
      "outputs": [
        {
          "output_type": "execute_result",
          "data": {
            "text/plain": [
              "array([[148.41780814],\n",
              "       [120.20117904],\n",
              "       [256.90855932],\n",
              "       [-45.06012137],\n",
              "       [ 96.73209719],\n",
              "       [ 76.72900952],\n",
              "       [148.19633048]])"
            ]
          },
          "metadata": {
            "tags": []
          },
          "execution_count": 12
        }
      ]
    },
    {
      "cell_type": "code",
      "metadata": {
        "id": "9i2SC31yekF0",
        "colab_type": "code",
        "colab": {
          "base_uri": "https://localhost:8080/",
          "height": 140
        },
        "outputId": "67f1fda0-561f-4d96-cb21-6cce840b0560"
      },
      "source": [
        "np.linalg.solve(exA, exBY)"
      ],
      "execution_count": 13,
      "outputs": [
        {
          "output_type": "execute_result",
          "data": {
            "text/plain": [
              "array([[268.6199365 ],\n",
              "       [239.92551127],\n",
              "       [ 75.4627871 ],\n",
              "       [261.29728973],\n",
              "       [ 39.3399569 ],\n",
              "       [ 19.28657111],\n",
              "       [ 25.85741247]])"
            ]
          },
          "metadata": {
            "tags": []
          },
          "execution_count": 13
        }
      ]
    },
    {
      "cell_type": "code",
      "metadata": {
        "id": "O8sNFXwKjM8F",
        "colab_type": "code",
        "colab": {
          "base_uri": "https://localhost:8080/",
          "height": 70
        },
        "outputId": "39866425-7838-44d5-c3dc-593950e431d0"
      },
      "source": [
        "y"
      ],
      "execution_count": 14,
      "outputs": [
        {
          "output_type": "execute_result",
          "data": {
            "text/plain": [
              "array([ 26,  25,  26,  29,  33,  41,  49,  59,  69,  81,  92, 104, 114,\n",
              "       125, 135, 144, 153, 159, 163, 168, 175, 184, 195, 206, 216, 227,\n",
              "       238, 249, 261, 270], dtype=int32)"
            ]
          },
          "metadata": {
            "tags": []
          },
          "execution_count": 14
        }
      ]
    },
    {
      "cell_type": "code",
      "metadata": {
        "id": "gc4n15gWgPjV",
        "colab_type": "code",
        "colab": {}
      },
      "source": [
        "#  (23) N次ベジエフィッティング\n",
        "class BezierCurve:\n",
        "    \n",
        "    # samples:標本点の座標の配列 （ opencv 輪郭形式、numpy 配列 ）\n",
        "    # initialpara:初期の仮パラメータ値\n",
        "    # N:ベジエ曲線の次数, driftThres:近似精度（繰返し計算の打ち切りしきい値）\n",
        "    # order 次数、openmode: 両端点フリー、Falseの時は両端点固定\n",
        "    \n",
        "    driftThres = 0.1 # 繰り返しにおけるパラメータ変動幅の平均値に対するしきい値\n",
        "    errorThres = 0.5 # 繰り返し打ち切りを決める、あてはめ誤差の平均値に対するしきい値\n",
        "    # paraResolution = 0.001 # サンプル点の最寄り点探索の解像度\n",
        "    dCount = 5 # ２分探索の打ち切り回数\n",
        "    debugmode=False\n",
        "\n",
        "    # インスタンスの初期化\n",
        "    def __init__(self, samples, N=5, initialPara=[], openmode=False):\n",
        "        self.N = N\n",
        "        self.samples = samples # 標本点のリスト（opencv の輪郭点表現形式準拠、numpy 配列）\n",
        "        self.openmode = openmode\n",
        "        \n",
        "        # もし、inf データが含まれるならば、補間する（計算で求められた座標データがサンプルの場合にありうる）\n",
        "        samples = self.interporation(samples) \n",
        "        # パラメータの初期化\n",
        "        if len(initialPara) > 0:  # 引数として与えられているならそれを使う\n",
        "            if len(initialPara) != len(samples): # サンプル数と一致しない\n",
        "                print(\"DATA NUMBER MISMATCH\")\n",
        "                sys.exit()\n",
        "            else:\n",
        "                self.tpara = initialPara\n",
        "        else: # 初0～1をリニアに刻む\n",
        "            axlength = np.array(cv2.arcLength(samples, False)) # 点列に沿って測った総経路長\n",
        "            # 各サンプル点の始点からの経路長の全長に対する比を、各点のベジエパラメータの初期化とする\n",
        "            self.tpara = [cv2.arcLength(samples[:i+1],False)  for i in range(len(samples))]/axlength\n",
        "            \n",
        "        # ベジエ曲線を定義するのに使うシンボルの宣言\n",
        "        P = [Symbol('P' + str(i)) for i in range(N+1)] # 制御点を表すシンボル（数値変数ではない）\n",
        "        px = [var('px'+str(i)) for i in range(N+1)] # 制御点のx座標を表すシンボル\n",
        "        py = [var('py'+str(i)) for i in range(N+1)] # 制御点のy座標を表すシンボル\n",
        "        t= symbols('t')\n",
        "        v = var('v')\n",
        "        for i in range(N+1):     # 制御点のシンボルと成分の対応付け\n",
        "            P[i] = Matrix([px[i],py[i]]) \n",
        "            \n",
        "        # N次のベジエ曲線の定義式制御点 P0～PN とパラメータ　　t　の関数として定義\n",
        "        v = 1-t\n",
        "        bezN = Matrix([0,0])\n",
        "        for i in range(0,N+1):\n",
        "            bezN = bezN + binomial(N,i)*v**(N-i)*t**i*P[i]\n",
        "        self.bezN = bezN\n",
        "            \n",
        "    # 解なしの部分に np.inf が入っているのでその抜けを前後から推定してデータを埋める\n",
        "    def interporation(self,plist):\n",
        "        # plist : np.inf が混入している可能性のある座標の numpy array\n",
        "        while np.sum(plist) == np.inf: # np.inf を含むなら除去を繰り返す\n",
        "            for i in range(len(plist)):\n",
        "                if np.sum(plist[i]) == np.inf :\n",
        "                    print(\"欠\",end=\"\")\n",
        "                    if (i !=0 and i !=len(plist)-1) and np.sum(plist[i-1]+plist[i+1]) != np.inf: # 当該は無限で、前後は無限ではない場合\n",
        "                        plist = np.r_[plist[0:i],[(plist[i-1]+plist[i+1])/2],plist[i+1:]]\n",
        "                    elif len(plist[i:])>=3 and np.sum(plist[i+1]+plist[i+2]) != np.inf:\n",
        "                        plist = np.r_[plist[0:i],[plist[i+2]-2*(plist[i+2]-plist[i+1])],plist[i+1:]]\n",
        "                    elif len(plist[0:i])>=2 and np.sum(plist[i-1]+plist[i-2]) != np.inf:\n",
        "                        plist = np.r_[plist[0:i],[plist[i-2]-2*(plist[i-2]-plist[i-1])],plist[i+1:]]\n",
        "        print(\"\")\n",
        "        return plist\n",
        "    \n",
        "    # 曲線 linefunc(t) 上で座標(x,y) に最も近い点のパラメータを2分サーチして探す関数\n",
        "    def nearest(self,x,y,linefunc,pmin,pmax,dcount=5):\n",
        "        t= symbols('t')\n",
        "        (funcX,funcY) = linefunc # funcX,funcY は t の関数\n",
        "        \n",
        "        mid = (pmin+pmax)/2\n",
        "        p = np.array([x,y])\n",
        "\n",
        "        def us(p):\n",
        "            x,y=p\n",
        "            return np.array([float(x),float(y)])\n",
        "\n",
        "        ps = funcX.subs(t,pmin),funcY.subs(t,pmin) # パラメータ最小点\n",
        "        pm = funcX.subs(t,mid),funcY.subs(t,mid)  # 中間パラメータ点\n",
        "        pe = funcX.subs(t,pmax),funcY.subs(t,pmax)  # パラメータ最大点\n",
        "        ls = np.linalg.norm(us(ps) - p)\n",
        "        lm = np.linalg.norm(us(pm) - p)\n",
        "        le = np.linalg.norm(us(pe) - p)\n",
        "        # if pmax-pmin < BezierCurve.paraResolution : # 探索範囲がこのパラメータより狭くなれば探索終了\n",
        "        if dcount == 0 : # 分割回数が指定回数に到達したら探索終了\n",
        "            m = min([ls,lm,le])\n",
        "            if m == ls:\n",
        "                return pmin\n",
        "            elif m == le:\n",
        "                return pmax\n",
        "            else:\n",
        "                return mid\n",
        "        else:\n",
        "            if ls < le:\n",
        "                return self.nearest(x,y,linefunc,pmin,mid,dcount-1)\n",
        "            else:\n",
        "                return self.nearest(x,y,linefunc,mid,pmax,dcount-1)    \n",
        "\n",
        "    #  パラメトリック曲線　linefunc 上で各サンプル点に最寄りの点のパラメータを対応づける\n",
        "    def refineTparaN(self,linefunc,stt,end):\n",
        "        def searchband(n):\n",
        "            if n == 0:\n",
        "                return 0,self.tpara[1]\n",
        "            elif n == len(self.tpara)-1:\n",
        "                return self.tpara[-2],1\n",
        "            else:\n",
        "                return self.tpara[n-1],self.tpara[n+1]\n",
        "\n",
        "        if stt == end:\n",
        "            return\n",
        "        samples = self.samples\n",
        "        nmid = (stt+end)//2  # 探索対象の中央のデータを抜き出す\n",
        "        px,py = self.samples[nmid] # 中央のデータの座標\n",
        "        #midpara = self.nearest(px,py,linefunc,pmin,pmax)\n",
        "        band = searchband(nmid)\n",
        "        midpara = self.nearest(px,py,linefunc,band[0],band[1],dcount= BezierCurve.dCount)\n",
        "        self.tpara[nmid] = midpara\n",
        "        self.refineTparaN(linefunc,stt,nmid)\n",
        "        self.refineTparaN(linefunc,nmid+1,end)\n",
        "\n",
        "    # 曲線あてはめの実行\n",
        "    def fit(self):\n",
        "\n",
        "        N = self.N\n",
        "\n",
        "        # ベジエ曲線を定義するのに使うシンボルの宣言\n",
        "        s,t= symbols('s,t')\n",
        "        dx_ = [var('dx_'+str(i)) for i in range(N+1)] # 制御点におけるx微係数を表すシンボル\n",
        "        dy_ = [var('dy_'+str(i)) for i in range(N+1)] # 制御点におけるy微係数を表すシンボル\n",
        "        P = [Symbol('P' + str(i)) for i in range(N+1)] # 制御点を表すシンボル（数値変数ではない）\n",
        "        px = [var('px'+str(i)) for i in range(N+1)] # 制御点のx座標を表すシンボル\n",
        "        py = [var('py'+str(i)) for i in range(N+1)] # 制御点のy座標を表すシンボル\n",
        "        \n",
        "        # 最小自乗法の目的関数の一般式\n",
        "        # 自乗誤差の一般式\n",
        "        loss1 = (s - t)**2        \n",
        "        def lossfunc(listA,listB):\n",
        "            return sum([loss1.subs([(s,a),(t,b)]) for (a,b) in zip(listA,listB)])/2\n",
        "        \n",
        "        def bs(n,t):\n",
        "            return binomial(N,n)*t**n*(1-t)**(N-n)\n",
        "\n",
        "        trynum = 0\n",
        "        while True:\n",
        "            tt = self.tpara\n",
        "\n",
        "            samples = self.samples\n",
        "            openmode = self.openmode\n",
        "\n",
        "            bezN = self.bezN\n",
        "            trynum += 1\n",
        "\n",
        "            M = len(samples)\n",
        "            exA = np.array([[sum([bs(i,tt[k])*bs(n,tt[k]) for k in range(M)]) for i in range(N+1)] \\\n",
        "                            for n in range(N+1)],'float64')\n",
        "            exBX = np.array([[sum([samples[k][0]*bs(n,tt[k]) for k in range(M)])] \\\n",
        "                                    for n in range(N+1)],'float64')\n",
        "            exBY = np.array([[sum([samples[k][1]*bs(n,tt[k]) for k in range(M)])] \\\n",
        "                             for n in range(N+1)],'float64')\n",
        "\n",
        "            rx = np.linalg.solve(exA, exBX)\n",
        "            ry = np.linalg.solve(exA, exBY)\n",
        "\n",
        "            # 解をベジエの式に代入\n",
        "            if not openmode:\n",
        "                bezresX = bezN[0].subs([(px[0],samples[0][0]),(px[-1],samples[-1][0])])\n",
        "                bezresY = bezN[1].subs([(py[0],samples[0][1]),(py[-1],samples[-1][1])])\n",
        "                for i in range(1,N):\n",
        "                    bezresX = bezresX.subs(px[i],rx[i])\n",
        "                    bezresY = bezresY.subs(py[i],ry[i])\n",
        "            else: \n",
        "                bezresX = bezN[0]\n",
        "                bezresY = bezN[1]           \n",
        "                for i in range(0,N+1):\n",
        "                    bezresX = bezresX.subs(px[i],rx[i])\n",
        "                    bezresY = bezresY.subs(py[i],ry[i])\n",
        "\n",
        "            if not openmode:\n",
        "                cpx = [samples[0][0]]+[rx[i] for i in range(1,N)]+[samples[-1][0]]\n",
        "                cpy = [samples[0][1]]+[ry[i] for i in range(1,N)]+[samples[-1][1]]    \n",
        "            else: # openmode\n",
        "                cpx = [rx[i] for i in range(N+1)]\n",
        "                cpy = [ry[i] for i in range(N+1)]\n",
        "\n",
        "            tpara = self.tpara\n",
        "            tpara0 = tpara.copy() # 前回の t の推定値\n",
        "            \n",
        "            self.refineTparaN((bezresX,bezresY),0,len(samples))\n",
        "            diffpara, error = 0,0\n",
        "            for i in range(len(tpara)) :\n",
        "                diffpara += np.sqrt((tpara[i]-tpara0[i])**2) \n",
        "                sx,sy = samples[i]\n",
        "                ox,oy = float(bezresX.subs(t,tpara[i])),float(bezresY.subs(t,tpara[i]))\n",
        "                error += np.sqrt((sx-ox)**2+(sy-oy)**2)\n",
        "            print(\".\",end='')\n",
        "            diffpara = diffpara/len(tpara)*100 # パラメータの変化量の平均の100倍値\n",
        "            error = error/len(tpara) # あてはめ誤差の平均\n",
        "            if BezierCurve.debugmode: print(\"error:{}, drift:{}\".format(error,diffpara))\n",
        "            if trynum <= 5:\n",
        "                if diffpara < BezierCurve.driftThres and error < BezierCurve.errorThres:\n",
        "                    print(1,diffpara,error)\n",
        "                    break\n",
        "            else:\n",
        "                if error < BezierCurve.errorThres*1.1**(trynum-5): # 収束しない時のために、条件を徐々に緩めていく\n",
        "                    print(2,diffpara,error,BezierCurve.errorThres*1.1**(trynum-5))\n",
        "                    break\n",
        "        print(\"\")\n",
        "        return True,np.array(cpx),np.array(cpy),bezresX,bezresY,self.tpara\n",
        "        # cpx,cpy 制御点、bezresX,bezresY ベジエ曲線の定義式\n",
        "        # tpara 制御点   \n",
        "        \n",
        "    # デバッグモードのオンオフ\n",
        "    def toggledebugmode():\n",
        "        BezierCurve.debugmode = not BezierCurve.debugmode\n",
        "        print(\"debugmode:\",BezierCurve.debugmode)\n",
        "        \n",
        "    # パラメータのセットと表示　引数なしで呼ぶ出せば初期化\n",
        "    def setParameters(reset=False,driftThres=0.1,errorThres=0.5,dCount=5):\n",
        "        \n",
        "        BezierCurve.driftThres = driftThres # 繰り返しにおけるパラメータ変動幅の平均値に対するしきい値\n",
        "        BezierCurve.errorThres = errorThres # 繰り返し打ち切りを決める、あてはめ誤差の平均値に対するしきい値\n",
        "        BezierCurve.dCount = dCount # サンプル点の最寄り点探索の解像度\n",
        "        \n",
        "        print(\"driftThres:       \",driftThres)\n",
        "        print(\"errorThres:     \",errorThres)\n",
        "        print(\"dCount: \",dCount)\n",
        "        print(\"debugmode:      \",BezierCurve.debugmode)\n",
        "        print(\"\")\n",
        "        "
      ],
      "execution_count": 0,
      "outputs": []
    },
    {
      "cell_type": "code",
      "metadata": {
        "colab_type": "code",
        "outputId": "834da3d9-172f-4cae-9fa3-af86d1a5c7d3",
        "id": "thlr0LHLw4Pj",
        "colab": {
          "base_uri": "https://localhost:8080/",
          "height": 1000
        }
      },
      "source": [
        "%%time\n",
        "cntL = rd.getSamples(conLeft,N=20)\n",
        "cntR = rd.getSamples(conRight,N=20)\n",
        "bezL =  BezierCurve(cntL,N=8,openmode=False)\n",
        "bezR =  BezierCurve(cntR,N=8,openmode=False)\n",
        "BezierCurve.toggledebugmode() # デバッグモードの切り替え\n",
        "BezierCurve.setParameters(driftThres=0.01,errorThres=0.1)\n",
        "res,cpx,cpy,LbezresX,LbezresY,tpara = bezL.fit()\n",
        "res,cpx,cpy,RbezresX,RbezresY,tpara = bezR.fit()\n",
        "BezierCurve.setParameters()"
      ],
      "execution_count": 65,
      "outputs": [
        {
          "output_type": "stream",
          "text": [
            "\n",
            "\n",
            "debugmode: True\n",
            "driftThres:        0.01\n",
            "errorThres:      0.1\n",
            "dCount:  5\n",
            "debugmode:       True\n",
            "\n",
            ".error:1.027298102380506, drift:0.16611649919574656\n",
            ".error:0.8646496885210937, drift:0.1253907963430151\n",
            ".error:0.8718250681701173, drift:0.09151481742812169\n",
            ".error:0.7730927274050976, drift:0.08081094097754885\n",
            ".error:0.8219847266350705, drift:0.06696520757423087\n",
            ".error:0.7541056193335529, drift:0.05527724599894576\n",
            ".error:0.8035782078014997, drift:0.06245321346429175\n",
            ".error:0.7241974127649318, drift:0.07917629068749064\n",
            ".error:0.7672041254741614, drift:0.06448101536103062\n",
            ".error:0.7104369063107203, drift:0.06193967081313222\n",
            ".error:0.7535182258387139, drift:0.05454551661912034\n",
            ".error:0.7018692998208658, drift:0.06234565318698329\n",
            ".error:0.751237929510073, drift:0.06224565827696649\n",
            ".error:0.6932306262002866, drift:0.05927438512306285\n",
            ".error:0.7455927298002685, drift:0.05783199576808021\n",
            ".error:0.6888805621737395, drift:0.05653278490389535\n",
            ".error:0.7388289769485188, drift:0.05225333291994187\n",
            ".error:0.6810046813164885, drift:0.05146498249464111\n",
            ".error:0.7231212724109667, drift:0.05469013552672388\n",
            ".error:0.6736047159905809, drift:0.04809489163083533\n",
            ".error:0.7060072273832563, drift:0.0453905958424055\n",
            ".error:0.6721250551632834, drift:0.041840646264166975\n",
            ".error:0.7039557429773514, drift:0.04119747628857098\n",
            ".error:0.6726268948093745, drift:0.040582905667506664\n",
            ".error:0.7041394525126079, drift:0.03976706141281677\n",
            ".error:0.6733615640834507, drift:0.0398808702573172\n",
            ".error:0.7047713483096327, drift:0.03949217633187993\n",
            ".error:0.6740560730249444, drift:0.03962454709509813\n",
            ".error:0.7054438842386948, drift:0.0393941877357297\n",
            ".error:0.6746538785118841, drift:0.03957547173450822\n",
            ".error:0.7060530828840414, drift:0.039353506831031164\n",
            ".error:0.6751548324941795, drift:0.03954729217726133\n",
            ".error:0.7065773425990793, drift:0.039355849673172495\n",
            ".error:0.6755708199313009, drift:0.03953055082709066\n",
            ".error:0.7070195127695797, drift:0.03937630570133983\n",
            ".error:0.6759151718734407, drift:0.03952005651585901\n",
            ".error:0.7073894952599861, drift:0.03939069998297337\n",
            ".error:0.6762001654855319, drift:0.03951309996947351\n",
            ".error:0.7076984540414608, drift:0.03940139032481169\n",
            ".error:0.6764364488305673, drift:0.03950824980710709\n",
            ".error:0.7079568154623992, drift:0.039409704865048835\n",
            ".error:0.676632998196309, drift:0.03950472027069798\n",
            ".error:0.7081736463097901, drift:0.03941642216043772\n",
            ".error:0.6767972512750544, drift:0.039502058894127605\n",
            ".error:0.7083565626965788, drift:0.03942201816890135\n",
            ".error:0.6769352994552802, drift:0.039499992166439034\n",
            "2 0.039499992166439034 0.6769352994552802 0.7391988147730891\n",
            "\n",
            ".error:1.3359751473000596, drift:0.1665461133171719\n",
            ".error:1.2001314633289182, drift:0.13593386706099564\n",
            ".error:1.213741871201532, drift:0.10024025507384265\n",
            ".error:1.1167841303757085, drift:0.09973912594478442\n",
            ".error:1.1238621450197928, drift:0.09018296132325146\n",
            ".error:1.0436303482530536, drift:0.07916664590953894\n",
            ".error:1.0862568698163888, drift:0.07142320743909941\n",
            ".error:1.0142469117819484, drift:0.08079662629264697\n",
            ".error:1.0156670395019716, drift:0.07012596842771328\n",
            ".error:0.9565945661604018, drift:0.0618952079653801\n",
            ".error:0.9499315499963306, drift:0.05363396493376366\n",
            ".error:0.9234249792467141, drift:0.048117146462226916\n",
            ".error:0.9228869790629748, drift:0.04236224561931189\n",
            ".error:0.9127939972443352, drift:0.04138911095279044\n",
            ".error:0.911806945880804, drift:0.037495248876087336\n",
            ".error:0.9028012064679862, drift:0.03091637630782924\n",
            ".error:0.9022404282408054, drift:0.0422181566942683\n",
            ".error:0.8816166926484268, drift:0.043191527933975765\n",
            ".error:0.8701317342965776, drift:0.039959336493321646\n",
            ".error:0.8749487412354823, drift:0.033655999356936514\n",
            ".error:0.8498912655762878, drift:0.04969566739796225\n",
            ".error:0.8446292961235699, drift:0.0466930959526618\n",
            ".error:0.8190267461568489, drift:0.035297454908855275\n",
            ".error:0.8192123974242806, drift:0.027434294332726875\n",
            ".error:0.8027852978247978, drift:0.028490083457150053\n",
            ".error:0.8097544255207394, drift:0.034130954731911925\n",
            ".error:0.7969488816766856, drift:0.03912760301195119\n",
            ".error:0.8004926733095233, drift:0.03217839003990898\n",
            ".error:0.7919401185204983, drift:0.03528336716441663\n",
            ".error:0.7944493964408543, drift:0.023877750359867153\n",
            ".error:0.7984570173589196, drift:0.034536882132382776\n",
            ".error:0.7878959851784827, drift:0.036197906205878844\n",
            ".error:0.7856322788751771, drift:0.01802166452749561\n",
            ".error:0.7724191605338738, drift:0.018596454511282737\n",
            ".error:0.7763882501566178, drift:0.011973261463235838\n",
            ".error:0.775411394447255, drift:0.009727189502373307\n",
            ".error:0.7749396181594069, drift:0.007818469621264854\n",
            ".error:0.7748501988316189, drift:0.006666208988166457\n",
            ".error:0.7749569515761788, drift:0.005923394061073742\n",
            ".error:0.7751614608573264, drift:0.0054794153463726125\n",
            ".error:0.7754119874018449, drift:0.0052031461446868515\n",
            ".error:0.7756810299112618, drift:0.005011003733686459\n",
            ".error:0.7759539490970457, drift:0.004878635208765414\n",
            ".error:0.7762230423923249, drift:0.004764728544862165\n",
            ".error:0.7764843941531439, drift:0.004650448116917533\n",
            ".error:0.7767361721943461, drift:0.0045366106419288815\n",
            ".error:0.7769776916874148, drift:0.004423754584634357\n",
            ".error:0.7772088934800518, drift:0.004312252036560993\n",
            "2 0.004312252036560993 0.7772088934800518 0.814966693287331\n",
            "\n",
            "driftThres:        0.1\n",
            "errorThres:      0.5\n",
            "dCount:  5\n",
            "debugmode:       True\n",
            "\n",
            "CPU times: user 1min 56s, sys: 115 ms, total: 1min 56s\n",
            "Wall time: 1min 56s\n"
          ],
          "name": "stdout"
        }
      ]
    },
    {
      "cell_type": "code",
      "metadata": {
        "id": "8KE8EbuEjmA0",
        "colab_type": "code",
        "colab": {
          "base_uri": "https://localhost:8080/",
          "height": 518
        },
        "outputId": "8804cbf4-b985-4bdc-869f-9e6d2683371a"
      },
      "source": [
        "rd.drawBez(img,stt=0.02,end=0.98,bezL=(LbezresX,LbezresY),bezR=(RbezresX,RbezresY))"
      ],
      "execution_count": 66,
      "outputs": [
        {
          "output_type": "display_data",
          "data": {
            "image/png": "[encoded data removed]",
            "text/plain": [
              "<Figure size 600x600 with 1 Axes>"
            ]
          },
          "metadata": {
            "tags": []
          }
        }
      ]
    },
    {
      "cell_type": "code",
      "metadata": {
        "id": "H8JLOBTXxnw-",
        "colab_type": "code",
        "colab": {
          "base_uri": "https://localhost:8080/",
          "height": 1000
        },
        "outputId": "90b11343-4c59-4030-923e-a886a387f85c"
      },
      "source": [
        "%%time\n",
        "cntL = rd.getSamples(conLeft,N=20)\n",
        "cntR = rd.getSamples(conRight,N=20)\n",
        "bezL =  BezierCurve(cntL,N=8,openmode=False)\n",
        "bezR =  BezierCurve(cntR,N=8,openmode=False)\n",
        "BezierCurve.toggledebugmode() # デバッグモードの切り替え\n",
        "BezierCurve.setParameters(driftThres=0.01,errorThres=0.1,dCount=10)\n",
        "res,cpx,cpy,LbezresX,LbezresY,tpara = bezL.fit()\n",
        "res,cpx,cpy,RbezresX,RbezresY,tpara = bezR.fit()\n",
        "BezierCurve.setParameters()"
      ],
      "execution_count": 71,
      "outputs": [
        {
          "output_type": "stream",
          "text": [
            "\n",
            "\n",
            "debugmode: True\n",
            "driftThres:        0.01\n",
            "errorThres:      0.1\n",
            "dCount:  10\n",
            "debugmode:       True\n",
            "\n",
            ".error:1.009120968150095, drift:0.15610715511815737\n",
            ".error:0.8472859366259522, drift:0.10986813986978844\n",
            ".error:0.8694441210678704, drift:0.09649010378131463\n",
            ".error:0.7599806566211088, drift:0.08401666283344193\n",
            ".error:0.7973760625934696, drift:0.07805511319593086\n",
            ".error:0.7216070277293759, drift:0.07057164387744841\n",
            ".error:0.7567286675982436, drift:0.06531788193870819\n",
            ".error:0.6991422009396653, drift:0.060382237008416995\n",
            ".error:0.7312454499187463, drift:0.05680763169622301\n",
            ".error:0.6840299108103893, drift:0.05277033494796295\n",
            ".error:0.7152371621943178, drift:0.049561411315806776\n",
            ".error:0.6733756868597204, drift:0.046149109672967356\n",
            ".error:0.7060579772361397, drift:0.0445972143778324\n",
            ".error:0.6657970768877097, drift:0.041905719050756365\n",
            ".error:0.7001354608650451, drift:0.04022354468735126\n",
            ".error:0.6612484777510084, drift:0.038177622072852156\n",
            ".error:0.7051462365185468, drift:0.04128260914712509\n",
            ".error:0.6588146827145198, drift:0.037008511903478536\n",
            ".error:0.7052601731680904, drift:0.038672100303488235\n",
            ".error:0.6685244660762677, drift:0.03214194369848579\n",
            ".error:0.7056464652888124, drift:0.0325225438486694\n",
            ".error:0.6610217274425697, drift:0.03525601244985563\n",
            ".error:0.7060100073555253, drift:0.03636568936362557\n",
            ".error:0.6696228151702708, drift:0.030351444254118655\n",
            ".error:0.7074394408884485, drift:0.031872002217797415\n",
            ".error:0.6621361088108026, drift:0.03474050084567252\n",
            "2 0.03474050084567252 0.6621361088108026 0.7400249944258173\n",
            "\n",
            ".error:1.3228450845547415, drift:0.1419822833002069\n",
            ".error:1.2017074842991913, drift:0.13196210320177798\n",
            ".error:1.206266112220217, drift:0.09171984911792601\n",
            ".error:1.0988364278587128, drift:0.09012880673027857\n",
            ".error:1.1170098711264411, drift:0.07535554234550837\n",
            ".error:1.0343243286187582, drift:0.0763731206655623\n",
            ".error:1.0551379821668754, drift:0.06603043238129758\n",
            ".error:0.9875097541648146, drift:0.06768018944289966\n",
            ".error:1.008847566870722, drift:0.05886251306380958\n",
            ".error:0.9518533349924952, drift:0.061109520719677644\n",
            ".error:0.9401602261895865, drift:0.050503121871341115\n",
            ".error:0.923753571495572, drift:0.047072816246894814\n",
            ".error:0.9130199282527999, drift:0.04457206518274817\n",
            ".error:0.9025846986038332, drift:0.042746082004833895\n",
            ".error:0.8936867978212885, drift:0.04065492972799772\n",
            ".error:0.8850735026955732, drift:0.03886154465555278\n",
            ".error:0.8771291785718253, drift:0.036984300120831565\n",
            ".error:0.8700370404200994, drift:0.03577228869964047\n",
            ".error:0.8628109534898233, drift:0.03423000292628639\n",
            ".error:0.8565471094590738, drift:0.03264638280963024\n",
            ".error:0.8510657073033914, drift:0.03118519263540211\n",
            ".error:0.8456386939365335, drift:0.030955258506723538\n",
            ".error:0.84156210693574, drift:0.02903758464219468\n",
            ".error:0.8378262406805623, drift:0.0286068889790949\n",
            ".error:0.8340916063074335, drift:0.027400866195289652\n",
            ".error:0.8308455906670922, drift:0.026260952384381742\n",
            ".error:0.8243934985605857, drift:0.029963240248274407\n",
            ".error:0.819892485072827, drift:0.0227152269536407\n",
            "2 0.0227152269536407 0.819892485072827 0.8954302432552391\n",
            "\n",
            "driftThres:        0.1\n",
            "errorThres:      0.5\n",
            "dCount:  5\n",
            "debugmode:       True\n",
            "\n",
            "CPU times: user 1min 36s, sys: 78 ms, total: 1min 36s\n",
            "Wall time: 1min 36s\n"
          ],
          "name": "stdout"
        }
      ]
    },
    {
      "cell_type": "code",
      "metadata": {
        "id": "ERLZO-W2yghh",
        "colab_type": "code",
        "colab": {
          "base_uri": "https://localhost:8080/",
          "height": 518
        },
        "outputId": "a7737e15-b6fa-481e-f88e-43fcde9f8022"
      },
      "source": [
        "rd.drawBez(img,stt=0.02,end=0.98,bezL=(LbezresX,LbezresY),bezR=(RbezresX,RbezresY))"
      ],
      "execution_count": 72,
      "outputs": [
        {
          "output_type": "display_data",
          "data": {
            "image/png": "[encoded data removed]",
            "text/plain": [
              "<Figure size 600x600 with 1 Axes>"
            ]
          },
          "metadata": {
            "tags": []
          }
        }
      ]
    },
    {
      "cell_type": "code",
      "metadata": {
        "id": "smxvrjMSUTzW",
        "colab_type": "code",
        "colab": {}
      },
      "source": [
        ""
      ],
      "execution_count": 0,
      "outputs": []
    }
  ]
}